{
  "nbformat": 4,
  "nbformat_minor": 0,
  "metadata": {
    "colab": {
      "provenance": [],
      "mount_file_id": "1v7wLP9yFv9JkxGY4vsHwvp9IFMV_kW4O",
      "authorship_tag": "ABX9TyPUjZBdgImSuAUkWU75sI4P",
      "include_colab_link": true
    },
    "kernelspec": {
      "name": "python3",
      "display_name": "Python 3"
    },
    "language_info": {
      "name": "python"
    }
  },
  "cells": [
    {
      "cell_type": "markdown",
      "metadata": {
        "id": "view-in-github",
        "colab_type": "text"
      },
      "source": [
        "<a href=\"https://colab.research.google.com/github/quyongkeomut/Travelling-salesman-problem-using-Genetic-Algorithm/blob/main/Genetic_Search.ipynb\" target=\"_parent\"><img src=\"https://colab.research.google.com/assets/colab-badge.svg\" alt=\"Open In Colab\"/></a>"
      ]
    },
    {
      "cell_type": "markdown",
      "source": [
        "### Init"
      ],
      "metadata": {
        "id": "GKca-3JHkWQx"
      }
    },
    {
      "cell_type": "code",
      "execution_count": null,
      "metadata": {
        "id": "7Jthzuu2YPUS",
        "colab": {
          "base_uri": "https://localhost:8080/",
          "height": 477
        },
        "outputId": "e0725711-451c-480d-9c71-75a2b02b07d6"
      },
      "outputs": [
        {
          "output_type": "stream",
          "name": "stdout",
          "text": [
            "Collecting anvil-uplink\n",
            "  Downloading anvil_uplink-0.4.2-py2.py3-none-any.whl (90 kB)\n",
            "\u001b[2K     \u001b[90m━━━━━━━━━━━━━━━━━━━━━━━━━━━━━━━━━━━━━━━━\u001b[0m \u001b[32m90.1/90.1 kB\u001b[0m \u001b[31m1.6 MB/s\u001b[0m eta \u001b[36m0:00:00\u001b[0m\n",
            "\u001b[?25hCollecting argparse (from anvil-uplink)\n",
            "  Downloading argparse-1.4.0-py2.py3-none-any.whl (23 kB)\n",
            "Requirement already satisfied: future in /usr/local/lib/python3.10/dist-packages (from anvil-uplink) (0.18.3)\n",
            "Requirement already satisfied: six in /usr/local/lib/python3.10/dist-packages (from anvil-uplink) (1.16.0)\n",
            "Collecting ws4py (from anvil-uplink)\n",
            "  Downloading ws4py-0.5.1.tar.gz (51 kB)\n",
            "\u001b[2K     \u001b[90m━━━━━━━━━━━━━━━━━━━━━━━━━━━━━━━━━━━━━━━━\u001b[0m \u001b[32m51.4/51.4 kB\u001b[0m \u001b[31m6.5 MB/s\u001b[0m eta \u001b[36m0:00:00\u001b[0m\n",
            "\u001b[?25h  Preparing metadata (setup.py) ... \u001b[?25l\u001b[?25hdone\n",
            "Building wheels for collected packages: ws4py\n",
            "  Building wheel for ws4py (setup.py) ... \u001b[?25l\u001b[?25hdone\n",
            "  Created wheel for ws4py: filename=ws4py-0.5.1-py3-none-any.whl size=45228 sha256=48ab988d2a4979da9d4b7abca4277e1822846bd30ffe268b9f0dd440f8eb674c\n",
            "  Stored in directory: /root/.cache/pip/wheels/2e/7c/ad/d9c746276bf024d44296340869fcb169f1e5d80fb147351a57\n",
            "Successfully built ws4py\n",
            "Installing collected packages: ws4py, argparse, anvil-uplink\n",
            "Successfully installed anvil-uplink-0.4.2 argparse-1.4.0 ws4py-0.5.1\n"
          ]
        },
        {
          "output_type": "display_data",
          "data": {
            "application/vnd.colab-display-data+json": {
              "pip_warning": {
                "packages": [
                  "argparse",
                  "google"
                ]
              }
            }
          },
          "metadata": {}
        },
        {
          "output_type": "stream",
          "name": "stdout",
          "text": [
            "Connecting to wss://anvil.works/uplink\n",
            "Anvil websocket open\n",
            "Connected to \"Published\" as SERVER\n"
          ]
        }
      ],
      "source": [
        "import numpy as np\n",
        "from copy import deepcopy"
      ]
    },
    {
      "cell_type": "markdown",
      "source": [
        "### Classes"
      ],
      "metadata": {
        "id": "RzPfkAq5kYks"
      }
    },
    {
      "cell_type": "code",
      "source": [
        "class Path(object):\n",
        "    def __init__(self, path, graph):\n",
        "        assert type(path) is list\n",
        "        self._path = path\n",
        "        self._graph = graph\n",
        "        self._num_city = len(graph)\n",
        "        self._value = self._get_value()\n",
        "\n",
        "    def path(self):\n",
        "        return self._path\n",
        "\n",
        "    def value(self):\n",
        "        return self._value\n",
        "\n",
        "    def _get_value(self):\n",
        "        '''Returns the value of genetic code\n",
        "           Value is a number (integer or floating point).'''\n",
        "        assert type(self._path) is list\n",
        "\n",
        "        if self._path[0] != self._path[-1] or len(self._path) != self._num_city + 1:\n",
        "            return 1e-9\n",
        "\n",
        "        cost = 0\n",
        "        for idx, city in enumerate(self._path):\n",
        "            if idx == len(self._path) - 1:\n",
        "                break\n",
        "            next_city = self._path[idx + 1]\n",
        "            cost += self._graph[city][next_city]\n",
        "\n",
        "        return 1/cost\n",
        "\n",
        "    def __gt__(self, other):\n",
        "        return self._value > other.value()\n",
        "\n",
        "    def __add__(self, other):\n",
        "        \"\"\"\n",
        "        'Crossover method' for genetic search. It should return a new genetic\n",
        "         code that is the 'mix' of father and mother.\n",
        "        \"\"\"\n",
        "        assert type(other) is Path\n",
        "\n",
        "        half_path1 = deepcopy(self._path[:len(self._path)//2])\n",
        "        half_path2 = deepcopy(other.path())\n",
        "        half_path2 = list(filter(lambda city: city not in half_path1, half_path2))\n",
        "\n",
        "        return Path(half_path1 + half_path2, self._graph)\n",
        "\n",
        "    def mutate(self):\n",
        "        middle = len(self._path)//2\n",
        "        pos_1 = np.random.randint(0, middle)\n",
        "        pos_2 = np.random.randint(middle, len(self._path))\n",
        "        self._path[pos_1], self._path[pos_2] = self._path[pos_2], self._path[pos_1]\n",
        "        self._value = self._get_value()"
      ],
      "metadata": {
        "id": "sI-m5gk3ZDAB"
      },
      "execution_count": null,
      "outputs": []
    },
    {
      "cell_type": "code",
      "source": [
        "class GeneticSearch(object):\n",
        "    def __init__(self, graph):\n",
        "        assert type(graph) is dict\n",
        "        self._graph = graph\n",
        "        self._num_city = len(graph)\n",
        "\n",
        "    def _get_random_path(self):\n",
        "        \"\"\"\n",
        "        generate random genetic code\n",
        "        \"\"\"\n",
        "        cities = list(self._graph)\n",
        "        city_probs = np.ones(self._num_city) / self._num_city\n",
        "        path = np.random.choice(cities, self._num_city, p=city_probs, replace=False)\n",
        "        end_city = np.random.choice(cities, 1, p=city_probs)\n",
        "        return path.tolist() + end_city.tolist()\n",
        "\n",
        "    def _get_random_parents(self, population):\n",
        "        population_values = [path.value() for path in population]\n",
        "        total_values = sum(population_values)\n",
        "        '''probabilities of each individual, each represent how likely that\n",
        "           individual is chosen to become a parent'''\n",
        "        population_probs = [value/total_values for value in population_values]\n",
        "        return np.random.choice(population, 2, p=population_probs, replace=False)\n",
        "\n",
        "    def _population_expander(self, population_size, mutation_chance):\n",
        "        def expander(population):\n",
        "            new_generation = []\n",
        "            for _ in range(population_size):\n",
        "                parents = self._get_random_parents(population)\n",
        "                father, mother = parents.tolist()\n",
        "                child = father + mother\n",
        "\n",
        "                '''random if a child is likely to be mutated'''\n",
        "                is_mutant = np.random.choice([True, False], 1, p=[mutation_chance, 1-mutation_chance])[0]\n",
        "                if is_mutant:\n",
        "                    child.mutate()\n",
        "                new_generation.append(child)\n",
        "\n",
        "            population += new_generation #add new generation to the current population\n",
        "            population_values = [path.value() for path in population]\n",
        "            total_values = sum(population_values)\n",
        "            population_probs = [value/total_values for value in population_values]\n",
        "\n",
        "            '''randomly choose individuals to fit new population'''\n",
        "            population = np.random.choice(population, population_size, p=population_probs, replace=False)\n",
        "            return population.tolist()\n",
        "\n",
        "        return expander\n",
        "\n",
        "    def search(self, num_generation=100, population_size=100, mutation_chance=0.1, patience=5):\n",
        "        assert type(num_generation) is int and type(population_size) is int\n",
        "        assert (0 <= mutation_chance <= 1) and (1 <= num_generation) and (1 <= patience)\n",
        "        population = []\n",
        "        expander = self._population_expander(population_size, mutation_chance)\n",
        "\n",
        "        for _ in range(population_size):\n",
        "            p = self._get_random_path()\n",
        "            population.append(Path(p, self._graph))\n",
        "        best_individual = max(population)\n",
        "\n",
        "        count_generation = 0\n",
        "        patience_current = 0\n",
        "        while count_generation < num_generation and patience_current < patience:\n",
        "            population = expander(population)\n",
        "            next_gen_best_individual = max(population)\n",
        "            if next_gen_best_individual > best_individual:\n",
        "                best_individual = next_gen_best_individual\n",
        "                patience_current = 0\n",
        "            else:\n",
        "                patience_current += 1\n",
        "            count_generation += 1\n",
        "        return best_individual"
      ],
      "metadata": {
        "id": "5m45bNGZ6sdn"
      },
      "execution_count": null,
      "outputs": []
    }
  ]
}